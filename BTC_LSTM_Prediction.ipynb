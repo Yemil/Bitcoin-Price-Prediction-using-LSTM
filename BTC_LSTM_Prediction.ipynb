{
 "cells": [
  {
   "cell_type": "code",
   "execution_count": 1,
   "id": "f91eb4e9",
   "metadata": {},
   "outputs": [],
   "source": [
    "#yahoo finance as data source\n",
    "#!pip install yfinance\n",
    "import yfinance as yf"
   ]
  },
  {
   "cell_type": "code",
   "execution_count": 2,
   "id": "ee00f18c",
   "metadata": {},
   "outputs": [],
   "source": [
    "#See the yahoo finance ticker for your stock symbol\n",
    "stock_symbol = 'BTC-USD'\n",
    "start_date = '2018-04-01'\n",
    "end_date = '2023-03-31'"
   ]
  },
  {
   "cell_type": "code",
   "execution_count": 3,
   "id": "d365868a",
   "metadata": {},
   "outputs": [
    {
     "name": "stdout",
     "output_type": "stream",
     "text": [
      "[*********************100%***********************]  1 of 1 completed\n"
     ]
    }
   ],
   "source": [
    "#last 5 financial year data with interval of 1 day\n",
    "data = yf.download(tickers=stock_symbol,start=start_date, end=end_date,interval='1d')"
   ]
  },
  {
   "cell_type": "code",
   "execution_count": 4,
   "id": "9f82e205",
   "metadata": {},
   "outputs": [
    {
     "data": {
      "text/plain": [
       "pandas.core.frame.DataFrame"
      ]
     },
     "execution_count": 4,
     "metadata": {},
     "output_type": "execute_result"
    }
   ],
   "source": [
    "type(data)"
   ]
  },
  {
   "cell_type": "code",
   "execution_count": 5,
   "id": "dbbe3e6b",
   "metadata": {},
   "outputs": [
    {
     "data": {
      "text/html": [
       "<div>\n",
       "<style scoped>\n",
       "    .dataframe tbody tr th:only-of-type {\n",
       "        vertical-align: middle;\n",
       "    }\n",
       "\n",
       "    .dataframe tbody tr th {\n",
       "        vertical-align: top;\n",
       "    }\n",
       "\n",
       "    .dataframe thead th {\n",
       "        text-align: right;\n",
       "    }\n",
       "</style>\n",
       "<table border=\"1\" class=\"dataframe\">\n",
       "  <thead>\n",
       "    <tr style=\"text-align: right;\">\n",
       "      <th></th>\n",
       "      <th>Open</th>\n",
       "      <th>High</th>\n",
       "      <th>Low</th>\n",
       "      <th>Close</th>\n",
       "      <th>Adj Close</th>\n",
       "      <th>Volume</th>\n",
       "    </tr>\n",
       "    <tr>\n",
       "      <th>Date</th>\n",
       "      <th></th>\n",
       "      <th></th>\n",
       "      <th></th>\n",
       "      <th></th>\n",
       "      <th></th>\n",
       "      <th></th>\n",
       "    </tr>\n",
       "  </thead>\n",
       "  <tbody>\n",
       "    <tr>\n",
       "      <th>2018-04-01</th>\n",
       "      <td>7003.060059</td>\n",
       "      <td>7060.950195</td>\n",
       "      <td>6526.870117</td>\n",
       "      <td>6844.229980</td>\n",
       "      <td>6844.229980</td>\n",
       "      <td>4532100096</td>\n",
       "    </tr>\n",
       "    <tr>\n",
       "      <th>2018-04-02</th>\n",
       "      <td>6844.859863</td>\n",
       "      <td>7135.470215</td>\n",
       "      <td>6816.580078</td>\n",
       "      <td>7083.799805</td>\n",
       "      <td>7083.799805</td>\n",
       "      <td>4333440000</td>\n",
       "    </tr>\n",
       "    <tr>\n",
       "      <th>2018-04-03</th>\n",
       "      <td>7102.259766</td>\n",
       "      <td>7530.939941</td>\n",
       "      <td>7072.490234</td>\n",
       "      <td>7456.109863</td>\n",
       "      <td>7456.109863</td>\n",
       "      <td>5499700224</td>\n",
       "    </tr>\n",
       "    <tr>\n",
       "      <th>2018-04-04</th>\n",
       "      <td>7456.410156</td>\n",
       "      <td>7469.879883</td>\n",
       "      <td>6803.879883</td>\n",
       "      <td>6853.839844</td>\n",
       "      <td>6853.839844</td>\n",
       "      <td>4936000000</td>\n",
       "    </tr>\n",
       "    <tr>\n",
       "      <th>2018-04-05</th>\n",
       "      <td>6848.649902</td>\n",
       "      <td>6933.819824</td>\n",
       "      <td>6644.799805</td>\n",
       "      <td>6811.470215</td>\n",
       "      <td>6811.470215</td>\n",
       "      <td>5639320064</td>\n",
       "    </tr>\n",
       "  </tbody>\n",
       "</table>\n",
       "</div>"
      ],
      "text/plain": [
       "                   Open         High          Low        Close    Adj Close  \\\n",
       "Date                                                                          \n",
       "2018-04-01  7003.060059  7060.950195  6526.870117  6844.229980  6844.229980   \n",
       "2018-04-02  6844.859863  7135.470215  6816.580078  7083.799805  7083.799805   \n",
       "2018-04-03  7102.259766  7530.939941  7072.490234  7456.109863  7456.109863   \n",
       "2018-04-04  7456.410156  7469.879883  6803.879883  6853.839844  6853.839844   \n",
       "2018-04-05  6848.649902  6933.819824  6644.799805  6811.470215  6811.470215   \n",
       "\n",
       "                Volume  \n",
       "Date                    \n",
       "2018-04-01  4532100096  \n",
       "2018-04-02  4333440000  \n",
       "2018-04-03  5499700224  \n",
       "2018-04-04  4936000000  \n",
       "2018-04-05  5639320064  "
      ]
     },
     "execution_count": 5,
     "metadata": {},
     "output_type": "execute_result"
    }
   ],
   "source": [
    "data.head()"
   ]
  },
  {
   "cell_type": "code",
   "execution_count": 6,
   "id": "9d445949",
   "metadata": {},
   "outputs": [
    {
     "data": {
      "text/plain": [
       "1825"
      ]
     },
     "execution_count": 6,
     "metadata": {},
     "output_type": "execute_result"
    }
   ],
   "source": [
    "len(data)"
   ]
  },
  {
   "cell_type": "code",
   "execution_count": 7,
   "id": "bf283ad5",
   "metadata": {},
   "outputs": [
    {
     "data": {
      "text/html": [
       "<div>\n",
       "<style scoped>\n",
       "    .dataframe tbody tr th:only-of-type {\n",
       "        vertical-align: middle;\n",
       "    }\n",
       "\n",
       "    .dataframe tbody tr th {\n",
       "        vertical-align: top;\n",
       "    }\n",
       "\n",
       "    .dataframe thead th {\n",
       "        text-align: right;\n",
       "    }\n",
       "</style>\n",
       "<table border=\"1\" class=\"dataframe\">\n",
       "  <thead>\n",
       "    <tr style=\"text-align: right;\">\n",
       "      <th></th>\n",
       "      <th>Open</th>\n",
       "      <th>High</th>\n",
       "      <th>Low</th>\n",
       "      <th>Close</th>\n",
       "      <th>Adj Close</th>\n",
       "      <th>Volume</th>\n",
       "    </tr>\n",
       "    <tr>\n",
       "      <th>Date</th>\n",
       "      <th></th>\n",
       "      <th></th>\n",
       "      <th></th>\n",
       "      <th></th>\n",
       "      <th></th>\n",
       "      <th></th>\n",
       "    </tr>\n",
       "  </thead>\n",
       "  <tbody>\n",
       "    <tr>\n",
       "      <th>2023-03-26</th>\n",
       "      <td>27495.523438</td>\n",
       "      <td>28178.144531</td>\n",
       "      <td>27445.046875</td>\n",
       "      <td>27994.330078</td>\n",
       "      <td>27994.330078</td>\n",
       "      <td>13878363192</td>\n",
       "    </tr>\n",
       "    <tr>\n",
       "      <th>2023-03-27</th>\n",
       "      <td>27994.068359</td>\n",
       "      <td>28037.925781</td>\n",
       "      <td>26606.689453</td>\n",
       "      <td>27139.888672</td>\n",
       "      <td>27139.888672</td>\n",
       "      <td>18188895178</td>\n",
       "    </tr>\n",
       "    <tr>\n",
       "      <th>2023-03-28</th>\n",
       "      <td>27132.888672</td>\n",
       "      <td>27460.718750</td>\n",
       "      <td>26677.818359</td>\n",
       "      <td>27268.130859</td>\n",
       "      <td>27268.130859</td>\n",
       "      <td>17783600385</td>\n",
       "    </tr>\n",
       "    <tr>\n",
       "      <th>2023-03-29</th>\n",
       "      <td>27267.031250</td>\n",
       "      <td>28619.542969</td>\n",
       "      <td>27259.662109</td>\n",
       "      <td>28348.441406</td>\n",
       "      <td>28348.441406</td>\n",
       "      <td>20684945906</td>\n",
       "    </tr>\n",
       "    <tr>\n",
       "      <th>2023-03-30</th>\n",
       "      <td>28350.140625</td>\n",
       "      <td>29159.902344</td>\n",
       "      <td>27720.160156</td>\n",
       "      <td>28033.562500</td>\n",
       "      <td>28033.562500</td>\n",
       "      <td>22435349951</td>\n",
       "    </tr>\n",
       "  </tbody>\n",
       "</table>\n",
       "</div>"
      ],
      "text/plain": [
       "                    Open          High           Low         Close  \\\n",
       "Date                                                                 \n",
       "2023-03-26  27495.523438  28178.144531  27445.046875  27994.330078   \n",
       "2023-03-27  27994.068359  28037.925781  26606.689453  27139.888672   \n",
       "2023-03-28  27132.888672  27460.718750  26677.818359  27268.130859   \n",
       "2023-03-29  27267.031250  28619.542969  27259.662109  28348.441406   \n",
       "2023-03-30  28350.140625  29159.902344  27720.160156  28033.562500   \n",
       "\n",
       "               Adj Close       Volume  \n",
       "Date                                   \n",
       "2023-03-26  27994.330078  13878363192  \n",
       "2023-03-27  27139.888672  18188895178  \n",
       "2023-03-28  27268.130859  17783600385  \n",
       "2023-03-29  28348.441406  20684945906  \n",
       "2023-03-30  28033.562500  22435349951  "
      ]
     },
     "execution_count": 7,
     "metadata": {},
     "output_type": "execute_result"
    }
   ],
   "source": [
    "data.tail()"
   ]
  },
  {
   "cell_type": "code",
   "execution_count": 8,
   "id": "6292e20a",
   "metadata": {},
   "outputs": [],
   "source": [
    "opn = data[['Open']]"
   ]
  },
  {
   "cell_type": "code",
   "execution_count": 9,
   "id": "21e132d8",
   "metadata": {},
   "outputs": [
    {
     "data": {
      "text/plain": [
       "<AxesSubplot:xlabel='Date'>"
      ]
     },
     "execution_count": 9,
     "metadata": {},
     "output_type": "execute_result"
    },
    {
     "data": {
      "image/png": "[encoded data removed]",
      "text/plain": [
       "<Figure size 432x288 with 1 Axes>"
      ]
     },
     "metadata": {
      "needs_background": "light"
     },
     "output_type": "display_data"
    }
   ],
   "source": [
    "opn.plot()"
   ]
  },
  {
   "cell_type": "code",
   "execution_count": 10,
   "id": "c5194440",
   "metadata": {},
   "outputs": [],
   "source": [
    "import matplotlib.pyplot as plt"
   ]
  },
  {
   "cell_type": "code",
   "execution_count": 11,
   "id": "8038cb6a",
   "metadata": {},
   "outputs": [],
   "source": [
    "ds = opn.values"
   ]
  },
  {
   "cell_type": "code",
   "execution_count": 12,
   "id": "69b08672",
   "metadata": {},
   "outputs": [
    {
     "data": {
      "text/plain": [
       "array([[ 7003.06005859],\n",
       "       [ 6844.85986328],\n",
       "       [ 7102.25976562],\n",
       "       ...,\n",
       "       [27132.88867188],\n",
       "       [27267.03125   ],\n",
       "       [28350.140625  ]])"
      ]
     },
     "execution_count": 12,
     "metadata": {},
     "output_type": "execute_result"
    }
   ],
   "source": [
    "ds"
   ]
  },
  {
   "cell_type": "code",
   "execution_count": 13,
   "id": "af022e3c",
   "metadata": {},
   "outputs": [
    {
     "data": {
      "text/plain": [
       "[<matplotlib.lines.Line2D at 0x23dd7886df0>]"
      ]
     },
     "execution_count": 13,
     "metadata": {},
     "output_type": "execute_result"
    },
    {
     "data": {
      "image/png": "[encoded data removed]",
      "text/plain": [
       "<Figure size 432x288 with 1 Axes>"
      ]
     },
     "metadata": {
      "needs_background": "light"
     },
     "output_type": "display_data"
    }
   ],
   "source": [
    "plt.plot(ds)"
   ]
  },
  {
   "cell_type": "code",
   "execution_count": 14,
   "id": "0e73b789",
   "metadata": {},
   "outputs": [],
   "source": [
    "import numpy as np"
   ]
  },
  {
   "cell_type": "code",
   "execution_count": 15,
   "id": "0e6c1c22",
   "metadata": {},
   "outputs": [],
   "source": [
    "from sklearn.preprocessing import MinMaxScaler"
   ]
  },
  {
   "cell_type": "code",
   "execution_count": 16,
   "id": "cf6a3e1b",
   "metadata": {},
   "outputs": [],
   "source": [
    "#Using MinMaxScaler for normalizing data between 0 & 1\n",
    "normalizer = MinMaxScaler(feature_range=(0,1))\n",
    "ds_scaled = normalizer.fit_transform(np.array(ds).reshape(-1,1))"
   ]
  },
  {
   "cell_type": "code",
   "execution_count": 17,
   "id": "7dbea1d5",
   "metadata": {},
   "outputs": [
    {
     "data": {
      "text/plain": [
       "(1825, 1825)"
      ]
     },
     "execution_count": 17,
     "metadata": {},
     "output_type": "execute_result"
    }
   ],
   "source": [
    "len(ds_scaled), len(ds)"
   ]
  },
  {
   "cell_type": "code",
   "execution_count": 18,
   "id": "a20c5654",
   "metadata": {},
   "outputs": [],
   "source": [
    "#Defining test and train data sizes\n",
    "train_size = int(len(ds_scaled)*0.70)\n",
    "test_size = len(ds_scaled) - train_size"
   ]
  },
  {
   "cell_type": "code",
   "execution_count": 19,
   "id": "b964aa4e",
   "metadata": {},
   "outputs": [
    {
     "data": {
      "text/plain": [
       "(1277, 548)"
      ]
     },
     "execution_count": 19,
     "metadata": {},
     "output_type": "execute_result"
    }
   ],
   "source": [
    "train_size,test_size"
   ]
  },
  {
   "cell_type": "code",
   "execution_count": 20,
   "id": "25ca615e",
   "metadata": {},
   "outputs": [],
   "source": [
    "#Splitting data between train and test\n",
    "ds_train, ds_test = ds_scaled[0:train_size,:], ds_scaled[train_size:len(ds_scaled),:1]"
   ]
  },
  {
   "cell_type": "code",
   "execution_count": 21,
   "id": "95913f28",
   "metadata": {},
   "outputs": [
    {
     "data": {
      "text/plain": [
       "(1277, 548)"
      ]
     },
     "execution_count": 21,
     "metadata": {},
     "output_type": "execute_result"
    }
   ],
   "source": [
    "len(ds_train),len(ds_test)"
   ]
  },
  {
   "cell_type": "code",
   "execution_count": 22,
   "id": "5dd0b45e",
   "metadata": {},
   "outputs": [],
   "source": [
    "#creating dataset in time series for LSTM model \n",
    "#X[100,120,140,160,180] : Y[200]\n",
    "def create_ds(dataset,step):\n",
    "    Xtrain, Ytrain = [], []\n",
    "    for i in range(len(dataset)-step-1):\n",
    "        a = dataset[i:(i+step), 0]\n",
    "        Xtrain.append(a)\n",
    "        Ytrain.append(dataset[i + step, 0])\n",
    "    return np.array(Xtrain), np.array(Ytrain)"
   ]
  },
  {
   "cell_type": "code",
   "execution_count": 23,
   "id": "d28b7d1d",
   "metadata": {},
   "outputs": [],
   "source": [
    "#Taking 100 days price as one record for training\n",
    "time_stamp = 100\n",
    "X_train, y_train = create_ds(ds_train,time_stamp)\n",
    "X_test, y_test = create_ds(ds_test,time_stamp)"
   ]
  },
  {
   "cell_type": "code",
   "execution_count": 24,
   "id": "03ce9096",
   "metadata": {},
   "outputs": [
    {
     "data": {
      "text/plain": [
       "((1176, 100), (1176,))"
      ]
     },
     "execution_count": 24,
     "metadata": {},
     "output_type": "execute_result"
    }
   ],
   "source": [
    "X_train.shape,y_train.shape"
   ]
  },
  {
   "cell_type": "code",
   "execution_count": 25,
   "id": "84acdd72",
   "metadata": {},
   "outputs": [
    {
     "data": {
      "text/plain": [
       "((447, 100), (447,))"
      ]
     },
     "execution_count": 25,
     "metadata": {},
     "output_type": "execute_result"
    }
   ],
   "source": [
    "X_test.shape, y_test.shape"
   ]
  },
  {
   "cell_type": "code",
   "execution_count": 26,
   "id": "c657d193",
   "metadata": {},
   "outputs": [],
   "source": [
    "#Reshaping data to fit into LSTM model\n",
    "X_train = X_train.reshape(X_train.shape[0],X_train.shape[1] , 1)\n",
    "X_test = X_test.reshape(X_test.shape[0],X_test.shape[1] , 1)"
   ]
  },
  {
   "cell_type": "code",
   "execution_count": 27,
   "id": "82844671",
   "metadata": {},
   "outputs": [],
   "source": [
    "from keras.models import Sequential\n",
    "from keras.layers import Dense, LSTM"
   ]
  },
  {
   "cell_type": "code",
   "execution_count": 28,
   "id": "b5250913",
   "metadata": {},
   "outputs": [
    {
     "name": "stdout",
     "output_type": "stream",
     "text": [
      "Model: \"sequential\"\n",
      "_________________________________________________________________\n",
      " Layer (type)                Output Shape              Param #   \n",
      "=================================================================\n",
      " lstm (LSTM)                 (None, 100, 50)           10400     \n",
      "                                                                 \n",
      " lstm_1 (LSTM)               (None, 100, 50)           20200     \n",
      "                                                                 \n",
      " lstm_2 (LSTM)               (None, 50)                20200     \n",
      "                                                                 \n",
      " dense (Dense)               (None, 1)                 51        \n",
      "                                                                 \n",
      "=================================================================\n",
      "Total params: 50,851\n",
      "Trainable params: 50,851\n",
      "Non-trainable params: 0\n",
      "_________________________________________________________________\n"
     ]
    }
   ],
   "source": [
    "#Creating LSTM model using keras\n",
    "model = Sequential()\n",
    "model.add(LSTM(units=50,return_sequences=True,input_shape=(X_train.shape[1],1)))\n",
    "model.add(LSTM(units=50,return_sequences=True))\n",
    "model.add(LSTM(units=50))\n",
    "model.add(Dense(units=1,activation='linear'))\n",
    "model.summary()"
   ]
  },
  {
   "cell_type": "code",
   "execution_count": 29,
   "id": "7e8ff062",
   "metadata": {},
   "outputs": [
    {
     "name": "stdout",
     "output_type": "stream",
     "text": [
      "Epoch 1/100\n",
      "19/19 [==============================] - 10s 300ms/step - loss: 0.0186 - val_loss: 0.0087\n",
      "Epoch 2/100\n",
      "19/19 [==============================] - 3s 177ms/step - loss: 0.0032 - val_loss: 0.0074\n",
      "Epoch 3/100\n",
      "19/19 [==============================] - 4s 241ms/step - loss: 0.0022 - val_loss: 0.0021\n",
      "Epoch 4/100\n",
      "19/19 [==============================] - 4s 197ms/step - loss: 0.0020 - val_loss: 0.0027\n",
      "Epoch 5/100\n",
      "19/19 [==============================] - 3s 174ms/step - loss: 0.0018 - val_loss: 0.0041\n",
      "Epoch 6/100\n",
      "19/19 [==============================] - 4s 234ms/step - loss: 0.0019 - val_loss: 0.0018\n",
      "Epoch 7/100\n",
      "19/19 [==============================] - 4s 194ms/step - loss: 0.0017 - val_loss: 0.0044\n",
      "Epoch 8/100\n",
      "19/19 [==============================] - 4s 221ms/step - loss: 0.0016 - val_loss: 0.0023\n",
      "Epoch 9/100\n",
      "19/19 [==============================] - 5s 283ms/step - loss: 0.0015 - val_loss: 0.0024\n",
      "Epoch 10/100\n",
      "19/19 [==============================] - 4s 234ms/step - loss: 0.0013 - val_loss: 0.0019\n",
      "Epoch 11/100\n",
      "19/19 [==============================] - 4s 210ms/step - loss: 0.0013 - val_loss: 0.0020\n",
      "Epoch 12/100\n",
      "19/19 [==============================] - 5s 288ms/step - loss: 0.0015 - val_loss: 0.0017\n",
      "Epoch 13/100\n",
      "19/19 [==============================] - 4s 209ms/step - loss: 0.0012 - val_loss: 0.0015\n",
      "Epoch 14/100\n",
      "19/19 [==============================] - 4s 206ms/step - loss: 0.0012 - val_loss: 0.0013\n",
      "Epoch 15/100\n",
      "19/19 [==============================] - 5s 279ms/step - loss: 0.0012 - val_loss: 0.0014\n",
      "Epoch 16/100\n",
      "19/19 [==============================] - 4s 224ms/step - loss: 0.0012 - val_loss: 0.0019\n",
      "Epoch 17/100\n",
      "19/19 [==============================] - 5s 270ms/step - loss: 0.0010 - val_loss: 0.0019\n",
      "Epoch 18/100\n",
      "19/19 [==============================] - 4s 223ms/step - loss: 0.0011 - val_loss: 0.0011\n",
      "Epoch 19/100\n",
      "19/19 [==============================] - 4s 216ms/step - loss: 0.0010 - val_loss: 0.0011\n",
      "Epoch 20/100\n",
      "19/19 [==============================] - 5s 277ms/step - loss: 9.1288e-04 - val_loss: 0.0013\n",
      "Epoch 21/100\n",
      "19/19 [==============================] - 4s 216ms/step - loss: 8.5056e-04 - val_loss: 0.0022\n",
      "Epoch 22/100\n",
      "19/19 [==============================] - 5s 274ms/step - loss: 9.1547e-04 - val_loss: 8.9584e-04\n",
      "Epoch 23/100\n",
      "19/19 [==============================] - 4s 230ms/step - loss: 7.7765e-04 - val_loss: 0.0011\n",
      "Epoch 24/100\n",
      "19/19 [==============================] - 5s 264ms/step - loss: 7.2081e-04 - val_loss: 0.0011\n",
      "Epoch 25/100\n",
      "19/19 [==============================] - 4s 235ms/step - loss: 6.5171e-04 - val_loss: 7.8726e-04\n",
      "Epoch 26/100\n",
      "19/19 [==============================] - 6s 293ms/step - loss: 6.7837e-04 - val_loss: 7.9048e-04\n",
      "Epoch 27/100\n",
      "19/19 [==============================] - 4s 215ms/step - loss: 6.2607e-04 - val_loss: 0.0012\n",
      "Epoch 28/100\n",
      "19/19 [==============================] - 5s 280ms/step - loss: 7.3709e-04 - val_loss: 0.0015\n",
      "Epoch 29/100\n",
      "19/19 [==============================] - 4s 229ms/step - loss: 6.2337e-04 - val_loss: 0.0030\n",
      "Epoch 30/100\n",
      "19/19 [==============================] - 6s 292ms/step - loss: 9.8738e-04 - val_loss: 0.0012\n",
      "Epoch 31/100\n",
      "19/19 [==============================] - 4s 209ms/step - loss: 6.2987e-04 - val_loss: 7.6645e-04\n",
      "Epoch 32/100\n",
      "19/19 [==============================] - 5s 281ms/step - loss: 5.6035e-04 - val_loss: 6.8900e-04\n",
      "Epoch 33/100\n",
      "19/19 [==============================] - 5s 288ms/step - loss: 7.4421e-04 - val_loss: 8.5817e-04\n",
      "Epoch 34/100\n",
      "19/19 [==============================] - 4s 213ms/step - loss: 7.8525e-04 - val_loss: 0.0014\n",
      "Epoch 35/100\n",
      "19/19 [==============================] - 5s 281ms/step - loss: 5.4358e-04 - val_loss: 9.7764e-04\n",
      "Epoch 36/100\n",
      "19/19 [==============================] - 4s 227ms/step - loss: 5.2190e-04 - val_loss: 9.4969e-04\n",
      "Epoch 37/100\n",
      "19/19 [==============================] - 5s 270ms/step - loss: 5.3512e-04 - val_loss: 0.0014\n",
      "Epoch 38/100\n",
      "19/19 [==============================] - 4s 230ms/step - loss: 5.4182e-04 - val_loss: 7.4198e-04\n",
      "Epoch 39/100\n",
      "19/19 [==============================] - 5s 286ms/step - loss: 5.8937e-04 - val_loss: 0.0011\n",
      "Epoch 40/100\n",
      "19/19 [==============================] - 5s 273ms/step - loss: 6.6847e-04 - val_loss: 0.0017\n",
      "Epoch 41/100\n",
      "19/19 [==============================] - 4s 229ms/step - loss: 5.5035e-04 - val_loss: 6.9079e-04\n",
      "Epoch 42/100\n",
      "19/19 [==============================] - 6s 311ms/step - loss: 5.0454e-04 - val_loss: 7.4876e-04\n",
      "Epoch 43/100\n",
      "19/19 [==============================] - 5s 285ms/step - loss: 4.8976e-04 - val_loss: 0.0011\n",
      "Epoch 44/100\n",
      "19/19 [==============================] - 4s 212ms/step - loss: 5.1344e-04 - val_loss: 0.0014\n",
      "Epoch 45/100\n",
      "19/19 [==============================] - 5s 283ms/step - loss: 4.7727e-04 - val_loss: 0.0015\n",
      "Epoch 46/100\n",
      "19/19 [==============================] - 4s 227ms/step - loss: 5.3929e-04 - val_loss: 0.0014\n",
      "Epoch 47/100\n",
      "19/19 [==============================] - 5s 278ms/step - loss: 5.4343e-04 - val_loss: 9.3586e-04\n",
      "Epoch 48/100\n",
      "19/19 [==============================] - 5s 281ms/step - loss: 4.6982e-04 - val_loss: 0.0014\n",
      "Epoch 49/100\n",
      "19/19 [==============================] - 4s 229ms/step - loss: 4.9001e-04 - val_loss: 6.0722e-04\n",
      "Epoch 50/100\n",
      "19/19 [==============================] - 5s 281ms/step - loss: 4.5315e-04 - val_loss: 7.4471e-04\n",
      "Epoch 51/100\n",
      "19/19 [==============================] - 5s 281ms/step - loss: 4.4946e-04 - val_loss: 5.2884e-04\n",
      "Epoch 52/100\n",
      "19/19 [==============================] - 4s 232ms/step - loss: 4.5987e-04 - val_loss: 4.9968e-04\n",
      "Epoch 53/100\n",
      "19/19 [==============================] - 5s 284ms/step - loss: 3.9202e-04 - val_loss: 5.9863e-04\n",
      "Epoch 54/100\n",
      "19/19 [==============================] - 5s 279ms/step - loss: 3.8161e-04 - val_loss: 9.7656e-04\n",
      "Epoch 55/100\n",
      "19/19 [==============================] - 4s 232ms/step - loss: 4.0260e-04 - val_loss: 5.4854e-04\n",
      "Epoch 56/100\n",
      "19/19 [==============================] - 5s 284ms/step - loss: 4.4564e-04 - val_loss: 5.2973e-04\n",
      "Epoch 57/100\n",
      "19/19 [==============================] - 5s 282ms/step - loss: 4.1177e-04 - val_loss: 4.8258e-04\n",
      "Epoch 58/100\n",
      "19/19 [==============================] - 6s 295ms/step - loss: 3.9626e-04 - val_loss: 5.5150e-04\n",
      "Epoch 59/100\n",
      "19/19 [==============================] - 5s 285ms/step - loss: 3.8210e-04 - val_loss: 4.4852e-04\n",
      "Epoch 60/100\n",
      "19/19 [==============================] - 4s 214ms/step - loss: 3.8706e-04 - val_loss: 4.7355e-04\n",
      "Epoch 61/100\n",
      "19/19 [==============================] - 6s 311ms/step - loss: 5.0932e-04 - val_loss: 9.7743e-04\n",
      "Epoch 62/100\n",
      "19/19 [==============================] - 6s 296ms/step - loss: 3.8715e-04 - val_loss: 5.2140e-04\n",
      "Epoch 63/100\n",
      "19/19 [==============================] - 5s 284ms/step - loss: 3.5339e-04 - val_loss: 4.5391e-04\n",
      "Epoch 64/100\n",
      "19/19 [==============================] - 5s 285ms/step - loss: 3.5601e-04 - val_loss: 4.5134e-04\n",
      "Epoch 65/100\n",
      "19/19 [==============================] - 5s 286ms/step - loss: 3.3924e-04 - val_loss: 4.3471e-04\n",
      "Epoch 66/100\n",
      "19/19 [==============================] - 4s 213ms/step - loss: 3.4703e-04 - val_loss: 5.2040e-04\n",
      "Epoch 67/100\n",
      "19/19 [==============================] - 5s 290ms/step - loss: 3.2583e-04 - val_loss: 4.8434e-04\n",
      "Epoch 68/100\n",
      "19/19 [==============================] - 6s 291ms/step - loss: 3.1611e-04 - val_loss: 6.5258e-04\n",
      "Epoch 69/100\n",
      "19/19 [==============================] - 4s 216ms/step - loss: 3.3282e-04 - val_loss: 8.7055e-04\n",
      "Epoch 70/100\n",
      "19/19 [==============================] - 5s 286ms/step - loss: 3.8638e-04 - val_loss: 3.7299e-04\n",
      "Epoch 71/100\n",
      "19/19 [==============================] - 6s 294ms/step - loss: 3.9284e-04 - val_loss: 3.8657e-04\n",
      "Epoch 72/100\n",
      "19/19 [==============================] - 5s 281ms/step - loss: 4.2585e-04 - val_loss: 4.6862e-04\n",
      "Epoch 73/100\n",
      "19/19 [==============================] - 4s 210ms/step - loss: 2.9882e-04 - val_loss: 4.6045e-04\n",
      "Epoch 74/100\n",
      "19/19 [==============================] - 5s 288ms/step - loss: 3.3800e-04 - val_loss: 4.0362e-04\n",
      "Epoch 75/100\n",
      "19/19 [==============================] - 5s 280ms/step - loss: 4.3026e-04 - val_loss: 5.6568e-04\n",
      "Epoch 76/100\n",
      "19/19 [==============================] - 5s 282ms/step - loss: 3.0760e-04 - val_loss: 4.0214e-04\n",
      "Epoch 77/100\n",
      "19/19 [==============================] - 5s 284ms/step - loss: 2.8599e-04 - val_loss: 5.7900e-04\n",
      "Epoch 78/100\n",
      "19/19 [==============================] - 4s 222ms/step - loss: 2.9198e-04 - val_loss: 3.8011e-04\n",
      "Epoch 79/100\n",
      "19/19 [==============================] - 5s 282ms/step - loss: 2.9304e-04 - val_loss: 4.2329e-04\n",
      "Epoch 80/100\n",
      "19/19 [==============================] - 6s 294ms/step - loss: 2.8887e-04 - val_loss: 3.5771e-04\n",
      "Epoch 81/100\n",
      "19/19 [==============================] - 5s 285ms/step - loss: 3.0533e-04 - val_loss: 4.0255e-04\n",
      "Epoch 82/100\n",
      "19/19 [==============================] - 4s 218ms/step - loss: 2.8187e-04 - val_loss: 6.9866e-04\n",
      "Epoch 83/100\n",
      "19/19 [==============================] - 5s 289ms/step - loss: 3.0009e-04 - val_loss: 3.9132e-04\n",
      "Epoch 84/100\n",
      "19/19 [==============================] - 5s 288ms/step - loss: 2.7415e-04 - val_loss: 3.6538e-04\n",
      "Epoch 85/100\n",
      "19/19 [==============================] - 6s 293ms/step - loss: 2.7526e-04 - val_loss: 5.1350e-04\n",
      "Epoch 86/100\n",
      "19/19 [==============================] - 4s 222ms/step - loss: 2.8431e-04 - val_loss: 3.3554e-04\n",
      "Epoch 87/100\n",
      "19/19 [==============================] - 6s 294ms/step - loss: 2.8964e-04 - val_loss: 3.3433e-04\n",
      "Epoch 88/100\n",
      "19/19 [==============================] - 5s 285ms/step - loss: 2.7383e-04 - val_loss: 3.6691e-04\n",
      "Epoch 89/100\n",
      "19/19 [==============================] - 5s 286ms/step - loss: 2.6872e-04 - val_loss: 3.3512e-04\n",
      "Epoch 90/100\n",
      "19/19 [==============================] - 5s 285ms/step - loss: 2.7690e-04 - val_loss: 4.8897e-04\n",
      "Epoch 91/100\n",
      "19/19 [==============================] - 5s 282ms/step - loss: 2.9882e-04 - val_loss: 9.5354e-04\n",
      "Epoch 92/100\n",
      "19/19 [==============================] - 5s 288ms/step - loss: 3.4661e-04 - val_loss: 3.3723e-04\n",
      "Epoch 93/100\n",
      "19/19 [==============================] - 5s 285ms/step - loss: 2.7117e-04 - val_loss: 3.4369e-04\n",
      "Epoch 94/100\n",
      "19/19 [==============================] - 4s 211ms/step - loss: 2.6560e-04 - val_loss: 3.5494e-04\n",
      "Epoch 95/100\n",
      "19/19 [==============================] - 5s 283ms/step - loss: 2.6498e-04 - val_loss: 4.5057e-04\n",
      "Epoch 96/100\n",
      "19/19 [==============================] - 5s 288ms/step - loss: 3.2040e-04 - val_loss: 4.2646e-04\n",
      "Epoch 97/100\n",
      "19/19 [==============================] - 5s 283ms/step - loss: 3.7172e-04 - val_loss: 4.0081e-04\n",
      "Epoch 98/100\n",
      "19/19 [==============================] - 5s 284ms/step - loss: 3.5519e-04 - val_loss: 9.5286e-04\n",
      "Epoch 99/100\n",
      "19/19 [==============================] - 6s 292ms/step - loss: 3.8223e-04 - val_loss: 8.5492e-04\n",
      "Epoch 100/100\n",
      "19/19 [==============================] - 4s 222ms/step - loss: 2.9827e-04 - val_loss: 3.0943e-04\n"
     ]
    },
    {
     "data": {
      "text/plain": [
       "<keras.callbacks.History at 0x23de27c34f0>"
      ]
     },
     "execution_count": 29,
     "metadata": {},
     "output_type": "execute_result"
    }
   ],
   "source": [
    "#Training model with adam optimizer and mean squared error loss function\n",
    "model.compile(loss='mean_squared_error',optimizer='adam')\n",
    "model.fit(X_train,y_train,validation_data=(X_test,y_test),epochs=100,batch_size=64)"
   ]
  },
  {
   "cell_type": "code",
   "execution_count": 30,
   "id": "18b1ba6a",
   "metadata": {},
   "outputs": [
    {
     "data": {
      "text/plain": [
       "[<matplotlib.lines.Line2D at 0x23de861e5b0>]"
      ]
     },
     "execution_count": 30,
     "metadata": {},
     "output_type": "execute_result"
    },
    {
     "data": {
      "image/png": "[encoded data removed]",
      "text/plain": [
       "<Figure size 432x288 with 1 Axes>"
      ]
     },
     "metadata": {
      "needs_background": "light"
     },
     "output_type": "display_data"
    }
   ],
   "source": [
    "#PLotting loss, it shows that loss has decreased significantly and model trained well\n",
    "loss = model.history.history['loss']\n",
    "plt.plot(loss)"
   ]
  },
  {
   "cell_type": "code",
   "execution_count": 31,
   "id": "3e7f2fc8",
   "metadata": {},
   "outputs": [
    {
     "name": "stdout",
     "output_type": "stream",
     "text": [
      "37/37 [==============================] - 3s 28ms/step\n",
      "14/14 [==============================] - 0s 28ms/step\n"
     ]
    }
   ],
   "source": [
    "#Predicitng on train and test data\n",
    "train_predict = model.predict(X_train)\n",
    "test_predict = model.predict(X_test)"
   ]
  },
  {
   "cell_type": "code",
   "execution_count": 32,
   "id": "c2d6c2d5",
   "metadata": {},
   "outputs": [],
   "source": [
    "#Inverse transform to get actual value\n",
    "train_predict = normalizer.inverse_transform(train_predict)\n",
    "test_predict = normalizer.inverse_transform(test_predict)"
   ]
  },
  {
   "cell_type": "code",
   "execution_count": 33,
   "id": "9d0543ad",
   "metadata": {},
   "outputs": [
    {
     "data": {
      "text/plain": [
       "[<matplotlib.lines.Line2D at 0x23de98afee0>]"
      ]
     },
     "execution_count": 33,
     "metadata": {},
     "output_type": "execute_result"
    },
    {
     "data": {
      "image/png": "[encoded data removed]",
      "text/plain": [
       "<Figure size 432x288 with 1 Axes>"
      ]
     },
     "metadata": {
      "needs_background": "light"
     },
     "output_type": "display_data"
    }
   ],
   "source": [
    "#Comparing using visuals\n",
    "plt.plot(normalizer.inverse_transform(ds_scaled))\n",
    "plt.plot(train_predict)\n",
    "plt.plot(test_predict)"
   ]
  },
  {
   "cell_type": "code",
   "execution_count": 34,
   "id": "55300bae",
   "metadata": {},
   "outputs": [
    {
     "data": {
      "text/plain": [
       "numpy.ndarray"
      ]
     },
     "execution_count": 34,
     "metadata": {},
     "output_type": "execute_result"
    }
   ],
   "source": [
    "type(train_predict)"
   ]
  },
  {
   "cell_type": "code",
   "execution_count": 35,
   "id": "bf6d5613",
   "metadata": {},
   "outputs": [],
   "source": [
    "test = np.vstack((train_predict,test_predict))"
   ]
  },
  {
   "cell_type": "code",
   "execution_count": 36,
   "id": "41b272ff",
   "metadata": {},
   "outputs": [
    {
     "data": {
      "text/plain": [
       "[<matplotlib.lines.Line2D at 0x23de9909b20>]"
      ]
     },
     "execution_count": 36,
     "metadata": {},
     "output_type": "execute_result"
    },
    {
     "data": {
      "image/png": "[encoded data removed]",
      "text/plain": [
       "<Figure size 432x288 with 1 Axes>"
      ]
     },
     "metadata": {
      "needs_background": "light"
     },
     "output_type": "display_data"
    }
   ],
   "source": [
    "#Combining the predited data to create uniform data visualization\n",
    "plt.plot(normalizer.inverse_transform(ds_scaled))\n",
    "plt.plot(test)"
   ]
  },
  {
   "cell_type": "code",
   "execution_count": 37,
   "id": "16af9283",
   "metadata": {},
   "outputs": [
    {
     "data": {
      "text/plain": [
       "548"
      ]
     },
     "execution_count": 37,
     "metadata": {},
     "output_type": "execute_result"
    }
   ],
   "source": [
    "len(ds_test)"
   ]
  },
  {
   "cell_type": "code",
   "execution_count": 38,
   "id": "c13df7b8",
   "metadata": {},
   "outputs": [],
   "source": [
    "#Getting the last 100 days records\n",
    "fut_inp = ds_test[448:]"
   ]
  },
  {
   "cell_type": "code",
   "execution_count": 39,
   "id": "52b30579",
   "metadata": {},
   "outputs": [],
   "source": [
    "fut_inp = fut_inp.reshape(1,-1)"
   ]
  },
  {
   "cell_type": "code",
   "execution_count": 40,
   "id": "ac2686a6",
   "metadata": {},
   "outputs": [],
   "source": [
    "tmp_inp = list(fut_inp)"
   ]
  },
  {
   "cell_type": "code",
   "execution_count": 41,
   "id": "dad5024f",
   "metadata": {},
   "outputs": [
    {
     "data": {
      "text/plain": [
       "(1, 100)"
      ]
     },
     "execution_count": 41,
     "metadata": {},
     "output_type": "execute_result"
    }
   ],
   "source": [
    "fut_inp.shape"
   ]
  },
  {
   "cell_type": "code",
   "execution_count": 42,
   "id": "98042a30",
   "metadata": {},
   "outputs": [],
   "source": [
    "#Creating list of the last 100 data\n",
    "tmp_inp = tmp_inp[0].tolist()"
   ]
  },
  {
   "cell_type": "code",
   "execution_count": 43,
   "id": "44799d02",
   "metadata": {},
   "outputs": [
    {
     "name": "stdout",
     "output_type": "stream",
     "text": [
      "[[0.38497960567474365], [0.3877080976963043], [0.38911452889442444], [0.38970232009887695], [0.389749675989151], [0.38945508003234863], [0.3889945149421692], [0.38851892948150635], [0.38814353942871094], [0.38794466853141785], [0.3879646062850952], [0.38821932673454285], [0.3887084424495697], [0.3894233703613281], [0.3903522789478302], [0.3914848864078522], [0.3928128182888031], [0.3943300247192383], [0.39603185653686523], [0.39791348576545715], [0.3999687135219574], [0.4021894335746765], [0.40456435084342957], [0.40707945823669434], [0.4097180962562561], [0.41246122121810913], [0.4152880907058716], [0.41817688941955566], [0.42110592126846313], [0.42405298352241516]]\n"
     ]
    }
   ],
   "source": [
    "#Predicting next 30 days price suing the current data\n",
    "#It will predict in sliding window manner (algorithm) with stride 1\n",
    "lst_output=[]\n",
    "n_steps=100\n",
    "i=0\n",
    "while(i<30):\n",
    "    \n",
    "    if(len(tmp_inp)>100):\n",
    "        fut_inp = np.array(tmp_inp[1:])\n",
    "        fut_inp=fut_inp.reshape(1,-1)\n",
    "        fut_inp = fut_inp.reshape((1, n_steps, 1))\n",
    "        yhat = model.predict(fut_inp, verbose=0)\n",
    "        tmp_inp.extend(yhat[0].tolist())\n",
    "        tmp_inp = tmp_inp[1:]\n",
    "        lst_output.extend(yhat.tolist())\n",
    "        i=i+1\n",
    "    else:\n",
    "        fut_inp = fut_inp.reshape((1, n_steps,1))\n",
    "        yhat = model.predict(fut_inp, verbose=0)\n",
    "        tmp_inp.extend(yhat[0].tolist())\n",
    "        lst_output.extend(yhat.tolist())\n",
    "        i=i+1\n",
    "    \n",
    "\n",
    "print(lst_output)"
   ]
  },
  {
   "cell_type": "code",
   "execution_count": 44,
   "id": "d49a83e5",
   "metadata": {},
   "outputs": [
    {
     "data": {
      "text/plain": [
       "1825"
      ]
     },
     "execution_count": 44,
     "metadata": {},
     "output_type": "execute_result"
    }
   ],
   "source": [
    "len(ds_scaled)"
   ]
  },
  {
   "cell_type": "code",
   "execution_count": 45,
   "id": "49450ea7",
   "metadata": {},
   "outputs": [],
   "source": [
    "#Creating a dummy plane to plot graph one after another\n",
    "plot_new=np.arange(1,101)\n",
    "plot_pred=np.arange(101,131)"
   ]
  },
  {
   "cell_type": "code",
   "execution_count": 46,
   "id": "29f84e31",
   "metadata": {},
   "outputs": [
    {
     "data": {
      "text/plain": [
       "[<matplotlib.lines.Line2D at 0x23de9994df0>]"
      ]
     },
     "execution_count": 46,
     "metadata": {},
     "output_type": "execute_result"
    },
    {
     "data": {
      "image/png": "[encoded data removed]",
      "text/plain": [
       "<Figure size 432x288 with 1 Axes>"
      ]
     },
     "metadata": {
      "needs_background": "light"
     },
     "output_type": "display_data"
    }
   ],
   "source": [
    "plt.plot(plot_new, normalizer.inverse_transform(ds_scaled[1725:]))\n",
    "plt.plot(plot_pred, normalizer.inverse_transform(lst_output))"
   ]
  },
  {
   "cell_type": "code",
   "execution_count": 47,
   "id": "e41c9362",
   "metadata": {},
   "outputs": [],
   "source": [
    "ds_new = ds_scaled.tolist()"
   ]
  },
  {
   "cell_type": "code",
   "execution_count": 48,
   "id": "d6c8d3c1",
   "metadata": {},
   "outputs": [
    {
     "data": {
      "text/plain": [
       "1825"
      ]
     },
     "execution_count": 48,
     "metadata": {},
     "output_type": "execute_result"
    }
   ],
   "source": [
    "len(ds_new)"
   ]
  },
  {
   "cell_type": "code",
   "execution_count": 49,
   "id": "24e99607",
   "metadata": {},
   "outputs": [
    {
     "data": {
      "text/plain": [
       "[<matplotlib.lines.Line2D at 0x23de997d880>]"
      ]
     },
     "execution_count": 49,
     "metadata": {},
     "output_type": "execute_result"
    },
    {
     "data": {
      "image/png": "[encoded data removed]",
      "text/plain": [
       "<Figure size 432x288 with 1 Axes>"
      ]
     },
     "metadata": {
      "needs_background": "light"
     },
     "output_type": "display_data"
    }
   ],
   "source": [
    "#Entends helps us to fill the missing value with approx value\n",
    "ds_new.extend(lst_output)\n",
    "plt.plot(ds_new[1200:])"
   ]
  },
  {
   "cell_type": "code",
   "execution_count": 50,
   "id": "7f04f058",
   "metadata": {},
   "outputs": [],
   "source": [
    "#Creating final data for plotting\n",
    "final_graph = normalizer.inverse_transform(ds_new).tolist()"
   ]
  },
  {
   "cell_type": "code",
   "execution_count": 51,
   "id": "2dfdef30",
   "metadata": {},
   "outputs": [
    {
     "data": {
      "text/plain": [
       "<matplotlib.legend.Legend at 0x23de994e070>"
      ]
     },
     "execution_count": 51,
     "metadata": {},
     "output_type": "execute_result"
    },
    {
     "data": {
      "image/png": "[encoded data removed]",
      "text/plain": [
       "<Figure size 432x288 with 1 Axes>"
      ]
     },
     "metadata": {
      "needs_background": "light"
     },
     "output_type": "display_data"
    }
   ],
   "source": [
    "#Plotting final results with predicted value after 30 Days\n",
    "plt.plot(final_graph,)\n",
    "plt.ylabel(\"Price\")\n",
    "plt.xlabel(\"Time\")\n",
    "plt.title(\"{0} prediction of next month open\".format(stock_symbol))\n",
    "plt.axhline(y=final_graph[len(final_graph)-1], color = 'red', linestyle = ':', label = 'NEXT 30D: {0}'.format(round(float(*final_graph[len(final_graph)-1]),2)))\n",
    "plt.legend()\n",
    "\n"
   ]
  },
  {
   "cell_type": "code",
   "execution_count": null,
   "id": "baebfbe2",
   "metadata": {},
   "outputs": [],
   "source": []
  },
  {
   "cell_type": "code",
   "execution_count": null,
   "id": "b82560f1",
   "metadata": {},
   "outputs": [],
   "source": []
  }
 ],
 "metadata": {
  "kernelspec": {
   "display_name": "Python 3 (ipykernel)",
   "language": "python",
   "name": "python3"
  },
  "language_info": {
   "codemirror_mode": {
    "name": "ipython",
    "version": 3
   },
   "file_extension": ".py",
   "mimetype": "text/x-python",
   "name": "python",
   "nbconvert_exporter": "python",
   "pygments_lexer": "ipython3",
   "version": "3.9.7"
  }
 },
 "nbformat": 4,
 "nbformat_minor": 5
}
